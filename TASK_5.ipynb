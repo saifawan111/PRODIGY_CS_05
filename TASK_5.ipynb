{
 "cells": [
  {
   "cell_type": "code",
   "execution_count": null,
   "id": "b43721f3-4205-436e-b455-a65f3df0820b",
   "metadata": {},
   "outputs": [],
   "source": [
    "from scapy.all import sniff\n",
    "from scapy.layers.inet import IP, TCP, UDP, ICMP\n",
    "\n",
    "def packet_callback(packet):\n",
    "    \"\"\"\n",
    "    Callback function to handle each packet.\n",
    "    \"\"\"\n",
    "    # Check if the packet has an IP layer\n",
    "    if IP in packet:\n",
    "        ip_src = packet[IP].src\n",
    "        ip_dst = packet[IP].dst\n",
    "        proto = packet[IP].proto\n",
    "\n",
    "        print(f\"Source IP: {ip_src}\")\n",
    "        print(f\"Destination IP: {ip_dst}\")\n",
    "        print(f\"Protocol: {proto}\")\n",
    "\n",
    "        # Determine the protocol and display relevant information\n",
    "        if proto == 6:  # TCP\n",
    "            if TCP in packet:\n",
    "                tcp_sport = packet[TCP].sport\n",
    "                tcp_dport = packet[TCP].dport\n",
    "                print(f\"TCP Source Port: {tcp_sport}\")\n",
    "                print(f\"TCP Destination Port: {tcp_dport}\")\n",
    "        elif proto == 17:  # UDP\n",
    "            if UDP in packet:\n",
    "                udp_sport = packet[UDP].sport\n",
    "                udp_dport = packet[UDP].dport\n",
    "                print(f\"UDP Source Port: {udp_sport}\")\n",
    "                print(f\"UDP Destination Port: {udp_dport}\")\n",
    "        elif proto == 1:  # ICMP\n",
    "            if ICMP in packet:\n",
    "                icmp_type = packet[ICMP].type\n",
    "                print(f\"ICMP Type: {icmp_type}\")\n",
    "\n",
    "        # Print the raw payload data\n",
    "        if packet.haslayer(Raw):\n",
    "            print(f\"Payload: {packet[Raw].load}\")\n",
    "\n",
    "        print(\"\\n\" + \"-\"*50 + \"\\n\")\n",
    "\n",
    "def main():\n",
    "    \"\"\"\n",
    "    Main function to start the packet sniffer.\n",
    "    \"\"\"\n",
    "    print(\"Starting packet sniffer...\")\n",
    "    # Start sniffing packets\n",
    "    sniff(prn=packet_callback, store=0)\n",
    "\n",
    "if __name__ == \"__main__\":\n",
    "    main()\n"
   ]
  }
 ],
 "metadata": {
  "kernelspec": {
   "display_name": "Python 3 (ipykernel)",
   "language": "python",
   "name": "python3"
  },
  "language_info": {
   "codemirror_mode": {
    "name": "ipython",
    "version": 3
   },
   "file_extension": ".py",
   "mimetype": "text/x-python",
   "name": "python",
   "nbconvert_exporter": "python",
   "pygments_lexer": "ipython3",
   "version": "3.11.7"
  }
 },
 "nbformat": 4,
 "nbformat_minor": 5
}
